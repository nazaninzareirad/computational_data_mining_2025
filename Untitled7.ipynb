{
  "nbformat": 4,
  "nbformat_minor": 0,
  "metadata": {
    "colab": {
      "provenance": [],
      "authorship_tag": "ABX9TyOJdp6fT7YiZQzMhbVLFHnW",
      "include_colab_link": true
    },
    "kernelspec": {
      "name": "python3",
      "display_name": "Python 3"
    },
    "language_info": {
      "name": "python"
    }
  },
  "cells": [
    {
      "cell_type": "markdown",
      "metadata": {
        "id": "view-in-github",
        "colab_type": "text"
      },
      "source": [
        "<a href=\"https://colab.research.google.com/github/nazaninzareirad/computational_data_mining_2025/blob/main/Untitled7.ipynb\" target=\"_parent\"><img src=\"https://colab.research.google.com/assets/colab-badge.svg\" alt=\"Open In Colab\"/></a>"
      ]
    },
    {
      "cell_type": "code",
      "execution_count": 4,
      "metadata": {
        "id": "-nWIa6BONatX",
        "colab": {
          "base_uri": "https://localhost:8080/"
        },
        "outputId": "615b92cd-e7b7-4917-8a8e-aecb4bbd3fbd"
      },
      "outputs": [
        {
          "output_type": "stream",
          "name": "stdout",
          "text": [
            "Requirement already satisfied: ucimlrepo in /usr/local/lib/python3.12/dist-packages (0.0.7)\n",
            "Requirement already satisfied: mlxtend in /usr/local/lib/python3.12/dist-packages (0.23.4)\n",
            "Requirement already satisfied: pandas>=1.0.0 in /usr/local/lib/python3.12/dist-packages (from ucimlrepo) (2.2.2)\n",
            "Requirement already satisfied: certifi>=2020.12.5 in /usr/local/lib/python3.12/dist-packages (from ucimlrepo) (2025.10.5)\n",
            "Requirement already satisfied: scipy>=1.2.1 in /usr/local/lib/python3.12/dist-packages (from mlxtend) (1.16.2)\n",
            "Requirement already satisfied: numpy>=1.16.2 in /usr/local/lib/python3.12/dist-packages (from mlxtend) (2.0.2)\n",
            "Requirement already satisfied: scikit-learn>=1.3.1 in /usr/local/lib/python3.12/dist-packages (from mlxtend) (1.6.1)\n",
            "Requirement already satisfied: matplotlib>=3.0.0 in /usr/local/lib/python3.12/dist-packages (from mlxtend) (3.10.0)\n",
            "Requirement already satisfied: joblib>=0.13.2 in /usr/local/lib/python3.12/dist-packages (from mlxtend) (1.5.2)\n",
            "Requirement already satisfied: contourpy>=1.0.1 in /usr/local/lib/python3.12/dist-packages (from matplotlib>=3.0.0->mlxtend) (1.3.3)\n",
            "Requirement already satisfied: cycler>=0.10 in /usr/local/lib/python3.12/dist-packages (from matplotlib>=3.0.0->mlxtend) (0.12.1)\n",
            "Requirement already satisfied: fonttools>=4.22.0 in /usr/local/lib/python3.12/dist-packages (from matplotlib>=3.0.0->mlxtend) (4.60.1)\n",
            "Requirement already satisfied: kiwisolver>=1.3.1 in /usr/local/lib/python3.12/dist-packages (from matplotlib>=3.0.0->mlxtend) (1.4.9)\n",
            "Requirement already satisfied: packaging>=20.0 in /usr/local/lib/python3.12/dist-packages (from matplotlib>=3.0.0->mlxtend) (25.0)\n",
            "Requirement already satisfied: pillow>=8 in /usr/local/lib/python3.12/dist-packages (from matplotlib>=3.0.0->mlxtend) (11.3.0)\n",
            "Requirement already satisfied: pyparsing>=2.3.1 in /usr/local/lib/python3.12/dist-packages (from matplotlib>=3.0.0->mlxtend) (3.2.5)\n",
            "Requirement already satisfied: python-dateutil>=2.7 in /usr/local/lib/python3.12/dist-packages (from matplotlib>=3.0.0->mlxtend) (2.9.0.post0)\n",
            "Requirement already satisfied: pytz>=2020.1 in /usr/local/lib/python3.12/dist-packages (from pandas>=1.0.0->ucimlrepo) (2025.2)\n",
            "Requirement already satisfied: tzdata>=2022.7 in /usr/local/lib/python3.12/dist-packages (from pandas>=1.0.0->ucimlrepo) (2025.2)\n",
            "Requirement already satisfied: threadpoolctl>=3.1.0 in /usr/local/lib/python3.12/dist-packages (from scikit-learn>=1.3.1->mlxtend) (3.6.0)\n",
            "Requirement already satisfied: six>=1.5 in /usr/local/lib/python3.12/dist-packages (from python-dateutil>=2.7->matplotlib>=3.0.0->mlxtend) (1.17.0)\n"
          ]
        }
      ],
      "source": [
        "!pip install ucimlrepo mlxtend"
      ]
    },
    {
      "cell_type": "markdown",
      "source": [
        "1. Loading and preprocessing the dataset"
      ],
      "metadata": {
        "id": "_AjGFA6Weejj"
      }
    },
    {
      "cell_type": "code",
      "source": [
        "from ucimlrepo import fetch_ucirepo\n",
        "import pandas as pd\n",
        "\n",
        "# Lloading the dataset\n",
        "online_retail = fetch_ucirepo(id=352)\n",
        "\n",
        "# converting to dataframes\n",
        "X = online_retail.data.features\n",
        "y = online_retail.data.targets\n",
        "\n",
        "# combine into a single DataFrame\n",
        "df = pd.concat([X, y, online_retail.data.ids], axis=1)\n",
        "\n",
        "# convert 'InvoiceDate' to datetime\n",
        "df['InvoiceDate'] = pd.to_datetime(df['InvoiceDate'])\n",
        "\n",
        "# remove cancelled transactions\n",
        "df = df[~df['InvoiceNo'].str.startswith('C')]\n",
        "\n",
        "# remove rows with missing CustomerID\n",
        "df = df.dropna(subset=['CustomerID'])\n",
        "\n",
        "# remove quantities that are <= 0\n",
        "df = df[df['Quantity'] > 0]\n",
        "\n",
        "# remove rows with missing or zero UnitPrice\n",
        "df = df[df['UnitPrice'] > 0]\n"
      ],
      "metadata": {
        "id": "1DksL2mhN-nr"
      },
      "execution_count": 5,
      "outputs": []
    },
    {
      "cell_type": "code",
      "source": [
        "import pandas as pd\n",
        "\n",
        "# Combine features and targets into a single DataFrame\n",
        "# Include 'InvoiceNo' from online_retail.data.ids\n",
        "df = pd.concat([online_retail.data.features, online_retail.data.targets, online_retail.data.ids], axis=1)\n",
        "\n",
        "# Convert 'InvoiceDate' to datetime\n",
        "df['InvoiceDate'] = pd.to_datetime(df['InvoiceDate'])\n",
        "\n",
        "# Filter out cancelled transactions (InvoiceNo starting with 'C')\n",
        "df = df[~df['InvoiceNo'].str.startswith('C')]\n",
        "\n",
        "# Remove rows with missing CustomerID\n",
        "df = df.dropna(subset=['CustomerID'])\n",
        "\n",
        "# Remove negative or zero quantities\n",
        "df = df[df['Quantity'] > 0]\n",
        "\n",
        "# Remove rows with missing or zero UnitPrice\n",
        "df = df[df['UnitPrice'] > 0]"
      ],
      "metadata": {
        "id": "dsgz-64eijlH"
      },
      "execution_count": null,
      "outputs": []
    },
    {
      "cell_type": "markdown",
      "source": [
        "2. Creating the item-transaction matrix"
      ],
      "metadata": {
        "id": "H-eOuT2juFcY"
      }
    },
    {
      "cell_type": "code",
      "source": [
        "# create the matrix with pivot_table\n",
        "basket = df.pivot_table(index='InvoiceNo', columns='Description', values='Quantity', aggfunc='sum', fill_value=0)\n",
        "\n",
        "# convert the quantities to binary (1 if purchased, 0 otherwise)\n",
        "basket = basket.applymap(lambda x: 1 if x > 0 else 0)\n",
        "\n",
        "print(basket.head())"
      ],
      "metadata": {
        "id": "Qm5-YyU4uwJU",
        "colab": {
          "base_uri": "https://localhost:8080/"
        },
        "outputId": "cd32304f-f643-4b3d-fa50-eb1b5839badf"
      },
      "execution_count": 6,
      "outputs": [
        {
          "output_type": "stream",
          "name": "stderr",
          "text": [
            "/tmp/ipython-input-1671543911.py:5: FutureWarning: DataFrame.applymap has been deprecated. Use DataFrame.map instead.\n",
            "  basket = basket.applymap(lambda x: 1 if x > 0 else 0)\n"
          ]
        },
        {
          "output_type": "stream",
          "name": "stdout",
          "text": [
            "Description   4 PURPLE FLOCK DINNER CANDLES   50'S CHRISTMAS GIFT BAG LARGE  \\\n",
            "InvoiceNo                                                                     \n",
            "536365                                    0                               0   \n",
            "536366                                    0                               0   \n",
            "536367                                    0                               0   \n",
            "536368                                    0                               0   \n",
            "536369                                    0                               0   \n",
            "\n",
            "Description   DOLLY GIRL BEAKER   I LOVE LONDON MINI BACKPACK  \\\n",
            "InvoiceNo                                                       \n",
            "536365                        0                             0   \n",
            "536366                        0                             0   \n",
            "536367                        0                             0   \n",
            "536368                        0                             0   \n",
            "536369                        0                             0   \n",
            "\n",
            "Description   I LOVE LONDON MINI RUCKSACK   NINE DRAWER OFFICE TIDY  \\\n",
            "InvoiceNo                                                             \n",
            "536365                                  0                         0   \n",
            "536366                                  0                         0   \n",
            "536367                                  0                         0   \n",
            "536368                                  0                         0   \n",
            "536369                                  0                         0   \n",
            "\n",
            "Description   OVAL WALL MIRROR DIAMANTE    RED SPOT GIFT BAG LARGE  \\\n",
            "InvoiceNo                                                            \n",
            "536365                                 0                         0   \n",
            "536366                                 0                         0   \n",
            "536367                                 0                         0   \n",
            "536368                                 0                         0   \n",
            "536369                                 0                         0   \n",
            "\n",
            "Description   SET 2 TEA TOWELS I LOVE LONDON    SPACEBOY BABY GIFT SET  ...  \\\n",
            "InvoiceNo                                                               ...   \n",
            "536365                                      0                        0  ...   \n",
            "536366                                      0                        0  ...   \n",
            "536367                                      0                        0  ...   \n",
            "536368                                      0                        0  ...   \n",
            "536369                                      0                        0  ...   \n",
            "\n",
            "Description  ZINC STAR T-LIGHT HOLDER   ZINC SWEETHEART SOAP DISH  \\\n",
            "InvoiceNo                                                           \n",
            "536365                               0                          0   \n",
            "536366                               0                          0   \n",
            "536367                               0                          0   \n",
            "536368                               0                          0   \n",
            "536369                               0                          0   \n",
            "\n",
            "Description  ZINC SWEETHEART WIRE LETTER RACK  ZINC T-LIGHT HOLDER STAR LARGE  \\\n",
            "InvoiceNo                                                                       \n",
            "536365                                      0                               0   \n",
            "536366                                      0                               0   \n",
            "536367                                      0                               0   \n",
            "536368                                      0                               0   \n",
            "536369                                      0                               0   \n",
            "\n",
            "Description  ZINC T-LIGHT HOLDER STARS LARGE  ZINC T-LIGHT HOLDER STARS SMALL  \\\n",
            "InvoiceNo                                                                       \n",
            "536365                                     0                                0   \n",
            "536366                                     0                                0   \n",
            "536367                                     0                                0   \n",
            "536368                                     0                                0   \n",
            "536369                                     0                                0   \n",
            "\n",
            "Description  ZINC TOP  2 DOOR WOODEN SHELF   ZINC WILLIE WINKIE  CANDLE STICK  \\\n",
            "InvoiceNo                                                                       \n",
            "536365                                    0                                 0   \n",
            "536366                                    0                                 0   \n",
            "536367                                    0                                 0   \n",
            "536368                                    0                                 0   \n",
            "536369                                    0                                 0   \n",
            "\n",
            "Description  ZINC WIRE KITCHEN ORGANISER  ZINC WIRE SWEETHEART LETTER TRAY  \n",
            "InvoiceNo                                                                   \n",
            "536365                                 0                                 0  \n",
            "536366                                 0                                 0  \n",
            "536367                                 0                                 0  \n",
            "536368                                 0                                 0  \n",
            "536369                                 0                                 0  \n",
            "\n",
            "[5 rows x 3877 columns]\n"
          ]
        }
      ]
    },
    {
      "cell_type": "markdown",
      "source": [
        "3. Streaming simulation"
      ],
      "metadata": {
        "id": "jU9BZ7ShY6Uw"
      }
    },
    {
      "cell_type": "code",
      "source": [
        "import numpy as np\n",
        "\n",
        "# simulate streaming data by random sampling\n",
        "def stream_data(batch_size=100):\n",
        "    # randomly sample 'batch_size' transactions\n",
        "    indices = np.random.choice(basket.shape[0], batch_size, replace=False)\n",
        "    return basket.iloc[indices]\n",
        "\n",
        "# example of 10 transactions\n",
        "streamed_data = stream_data(10)\n",
        "print(streamed_data.head())\n"
      ],
      "metadata": {
        "colab": {
          "base_uri": "https://localhost:8080/"
        },
        "id": "faTMaMy4ZKqH",
        "outputId": "304f49aa-9092-408a-d86e-6ddb84f5a1a4"
      },
      "execution_count": 7,
      "outputs": [
        {
          "output_type": "stream",
          "name": "stdout",
          "text": [
            "Description   4 PURPLE FLOCK DINNER CANDLES   50'S CHRISTMAS GIFT BAG LARGE  \\\n",
            "InvoiceNo                                                                     \n",
            "570353                                    0                               0   \n",
            "550513                                    0                               0   \n",
            "542743                                    0                               0   \n",
            "553317                                    0                               0   \n",
            "563036                                    0                               0   \n",
            "\n",
            "Description   DOLLY GIRL BEAKER   I LOVE LONDON MINI BACKPACK  \\\n",
            "InvoiceNo                                                       \n",
            "570353                        0                             0   \n",
            "550513                        0                             0   \n",
            "542743                        0                             0   \n",
            "553317                        0                             0   \n",
            "563036                        0                             0   \n",
            "\n",
            "Description   I LOVE LONDON MINI RUCKSACK   NINE DRAWER OFFICE TIDY  \\\n",
            "InvoiceNo                                                             \n",
            "570353                                  0                         0   \n",
            "550513                                  0                         0   \n",
            "542743                                  0                         0   \n",
            "553317                                  0                         0   \n",
            "563036                                  0                         0   \n",
            "\n",
            "Description   OVAL WALL MIRROR DIAMANTE    RED SPOT GIFT BAG LARGE  \\\n",
            "InvoiceNo                                                            \n",
            "570353                                 0                         0   \n",
            "550513                                 0                         0   \n",
            "542743                                 0                         0   \n",
            "553317                                 0                         0   \n",
            "563036                                 0                         0   \n",
            "\n",
            "Description   SET 2 TEA TOWELS I LOVE LONDON    SPACEBOY BABY GIFT SET  ...  \\\n",
            "InvoiceNo                                                               ...   \n",
            "570353                                      0                        0  ...   \n",
            "550513                                      0                        0  ...   \n",
            "542743                                      0                        0  ...   \n",
            "553317                                      0                        0  ...   \n",
            "563036                                      0                        0  ...   \n",
            "\n",
            "Description  ZINC STAR T-LIGHT HOLDER   ZINC SWEETHEART SOAP DISH  \\\n",
            "InvoiceNo                                                           \n",
            "570353                               0                          0   \n",
            "550513                               0                          0   \n",
            "542743                               0                          0   \n",
            "553317                               0                          0   \n",
            "563036                               0                          0   \n",
            "\n",
            "Description  ZINC SWEETHEART WIRE LETTER RACK  ZINC T-LIGHT HOLDER STAR LARGE  \\\n",
            "InvoiceNo                                                                       \n",
            "570353                                      0                               0   \n",
            "550513                                      0                               0   \n",
            "542743                                      0                               0   \n",
            "553317                                      0                               0   \n",
            "563036                                      0                               0   \n",
            "\n",
            "Description  ZINC T-LIGHT HOLDER STARS LARGE  ZINC T-LIGHT HOLDER STARS SMALL  \\\n",
            "InvoiceNo                                                                       \n",
            "570353                                     0                                0   \n",
            "550513                                     0                                0   \n",
            "542743                                     0                                0   \n",
            "553317                                     0                                0   \n",
            "563036                                     0                                0   \n",
            "\n",
            "Description  ZINC TOP  2 DOOR WOODEN SHELF   ZINC WILLIE WINKIE  CANDLE STICK  \\\n",
            "InvoiceNo                                                                       \n",
            "570353                                    0                                 0   \n",
            "550513                                    0                                 0   \n",
            "542743                                    0                                 0   \n",
            "553317                                    0                                 0   \n",
            "563036                                    0                                 0   \n",
            "\n",
            "Description  ZINC WIRE KITCHEN ORGANISER  ZINC WIRE SWEETHEART LETTER TRAY  \n",
            "InvoiceNo                                                                   \n",
            "570353                                 0                                 0  \n",
            "550513                                 0                                 0  \n",
            "542743                                 0                                 0  \n",
            "553317                                 0                                 0  \n",
            "563036                                 0                                 0  \n",
            "\n",
            "[5 rows x 3877 columns]\n"
          ]
        }
      ]
    },
    {
      "cell_type": "markdown",
      "source": [
        "4. Sketching algorithms"
      ],
      "metadata": {
        "id": "VAPlv5L9Zn0n"
      }
    },
    {
      "cell_type": "markdown",
      "source": [
        "4.1. Gaussian random projection"
      ],
      "metadata": {
        "id": "Xyl6B7TVaGT9"
      }
    },
    {
      "cell_type": "code",
      "source": [
        "import numpy as np\n",
        "from scipy.sparse import csr_matrix\n",
        "\n",
        "def gaussian_random_projection(X, n_components):\n",
        "    # if the input is a sparse matrix, we extract the shape properly\n",
        "    if isinstance(X, csr_matrix):\n",
        "        n_samples, n_features = X.shape\n",
        "    else:\n",
        "        n_samples, n_features = X.shape\n",
        "\n",
        "    # when n_components is greater than n_features\n",
        "    if n_components > n_features:\n",
        "        print(f\"Warning: n_components ({n_components}) is greater than \"\n",
        "              f\"n_features ({n_features}). Dimensionality will increase.\")\n",
        "\n",
        "    # 1. generate random projection matrix R with Gaussian entries N(0, 1/sqrt(n_components))\n",
        "    R = np.random.normal(0, 1.0 / np.sqrt(n_components), (n_features, n_components))\n",
        "\n",
        "    # 2. if the input matrix is sparse convert it to dense for multiplication\n",
        "    if isinstance(X, csr_matrix):\n",
        "        X = X.toarray()\n",
        "\n",
        "    # 3. perform the projection: X_new = X @ R\n",
        "    X_new = np.dot(X, R)\n",
        "\n",
        "    return X_new\n",
        "\n",
        "# example\n",
        "if __name__ == \"__main__\":\n",
        "    # 100 transactions (samples) and 50 items (features)\n",
        "    X = np.random.rand(100, 50)\n",
        "\n",
        "    # converting to sparse matrix for efficiency\n",
        "    X_sparse = csr_matrix(X)\n",
        "\n",
        "    # project to 10 dimensions\n",
        "    X_projected = gaussian_random_projection(X_sparse, 10)\n",
        "\n",
        "    print(\"Original shape:\", X.shape)\n",
        "    print(\"Projected shape:\", X_projected.shape)\n",
        "    print(\"Sample of projected data:\\n\", X_projected[:3, :5])"
      ],
      "metadata": {
        "colab": {
          "base_uri": "https://localhost:8080/"
        },
        "id": "CY8SML9naAO8",
        "outputId": "5dbb9de7-e156-4859-fc21-9da5835a9796"
      },
      "execution_count": 12,
      "outputs": [
        {
          "output_type": "stream",
          "name": "stdout",
          "text": [
            "Original shape: (100, 50)\n",
            "Projected shape: (100, 10)\n",
            "Sample of projected data:\n",
            " [[-1.30317872 -0.67696425  0.21399522 -0.2178603  -0.11859684]\n",
            " [-2.94365669  0.01844226  0.27838148 -1.60349004 -0.61028256]\n",
            " [-3.40023177  0.58844317 -0.06952147 -0.2725474  -1.06387352]]\n"
          ]
        }
      ]
    },
    {
      "cell_type": "markdown",
      "source": [
        "4.2 Incremental PCA"
      ],
      "metadata": {
        "id": "dkMeUx0dlpBa"
      }
    },
    {
      "cell_type": "code",
      "source": [
        "import numpy as np\n",
        "from typing import Optional, Tuple\n",
        "#converted from the pytorch implementation\n",
        "\n",
        "class IncrementalPCA:\n",
        "\n",
        "    def __init__(self, n_components: Optional[int] = None, batch_size: Optional[int] = None):\n",
        "        self.n_components = n_components\n",
        "        self.batch_size = batch_size\n",
        "        self.n_features_ = None\n",
        "        self.mean_ = None\n",
        "        self.components_ = None\n",
        "        self.singular_values_ = None\n",
        "        self.n_samples_seen_ = 0\n",
        "\n",
        "    def _svd_fn_full(self, X):\n",
        "        # svd computation\n",
        "        return np.linalg.svd(X, full_matrices=False)\n",
        "\n",
        "    def _validate_data(self, X) -> np.ndarray:\n",
        "        if not isinstance(X, np.ndarray):\n",
        "            X = np.array(X, dtype=np.float32)\n",
        "\n",
        "        n_samples, n_features = X.shape\n",
        "\n",
        "        if self.n_components is None:\n",
        "            pass\n",
        "        elif self.n_components > n_features:\n",
        "            raise ValueError(\n",
        "                f\"n_components={self.n_components} invalid for n_features={n_features}, \"\n",
        "                \"need more rows than columns for IncrementalPCA processing.\"\n",
        "            )\n",
        "        elif self.n_components > n_samples:\n",
        "            raise ValueError(\n",
        "                f\"n_components={self.n_components} must be less or equal to the batch number of samples {n_samples}\"\n",
        "            )\n",
        "\n",
        "        return X\n",
        "\n",
        "    @staticmethod\n",
        "    def _incremental_mean_and_var(X, last_mean, last_variance, last_sample_count) -> Tuple[np.ndarray, np.ndarray, int]:\n",
        "        if X.shape[0] == 0:\n",
        "            return last_mean, last_variance, last_sample_count\n",
        "\n",
        "        new_sample_count = X.shape[0]\n",
        "        updated_sample_count = last_sample_count + new_sample_count\n",
        "\n",
        "        if last_mean is None:\n",
        "            last_sum = np.zeros(X.shape[1])\n",
        "        else:\n",
        "            last_sum = last_mean * last_sample_count\n",
        "\n",
        "        new_sum = X.sum(axis=0)\n",
        "\n",
        "        updated_mean = (last_sum + new_sum) / updated_sample_count\n",
        "\n",
        "        T = new_sum / new_sample_count\n",
        "        temp = X - T\n",
        "        correction = np.sum(temp, axis=0)**2\n",
        "        temp = temp**2\n",
        "        new_unnormalized_variance = np.sum(temp, axis=0)\n",
        "        new_unnormalized_variance -= correction / new_sample_count\n",
        "        if last_variance is None:\n",
        "            updated_variance = new_unnormalized_variance / updated_sample_count\n",
        "        else:\n",
        "            last_unnormalized_variance = last_variance * last_sample_count\n",
        "            last_over_new_count = last_sample_count / new_sample_count\n",
        "            updated_unnormalized_variance = (\n",
        "                last_unnormalized_variance\n",
        "                + new_unnormalized_variance\n",
        "                + last_over_new_count / updated_sample_count * (last_sum / last_over_new_count - new_sum)**2\n",
        "            )\n",
        "            updated_variance = updated_unnormalized_variance / updated_sample_count\n",
        "\n",
        "        return updated_mean, updated_variance, updated_sample_count\n",
        "    # Fits the model with data X using minibatches of size batch_size.\n",
        "    def fit(self, X: np.ndarray):\n",
        "        X = self._validate_data(X)\n",
        "        n_samples, n_features = X.shape\n",
        "\n",
        "        if self.batch_size is None:\n",
        "            self.batch_size = 5 * n_features  # default batch size\n",
        "\n",
        "        # Process data in batches\n",
        "        for batch in range(0, n_samples, self.batch_size):\n",
        "            batch_data = X[batch:batch + self.batch_size]\n",
        "            self.partial_fit(batch_data)\n",
        "\n",
        "        return self\n",
        "\n",
        "    # incrementally fits the model with batch data X\n",
        "    def partial_fit(self, X: np.ndarray):\n",
        "        first_pass = not hasattr(self, \"components_\")\n",
        "\n",
        "        X = self._validate_data(X)\n",
        "        n_samples, n_features = X.shape\n",
        "\n",
        "        if first_pass:\n",
        "            self.mean_ = None\n",
        "            self.var_ = None\n",
        "            self.n_samples_seen_ = 0\n",
        "            self.n_features_ = n_features\n",
        "            if not self.n_components:\n",
        "                self.n_components = min(n_samples, n_features)\n",
        "\n",
        "        if n_features != self.n_features_:\n",
        "            raise ValueError(\n",
        "                \"number of features of the new batch does not match the number of features of the first batch.\"\n",
        "            )\n",
        "\n",
        "        # calculate incremental mean and variance\n",
        "        col_mean, col_var, n_total_samples = self._incremental_mean_and_var(\n",
        "            X, self.mean_, self.var_, self.n_samples_seen_\n",
        "        )\n",
        "\n",
        "        # center the data by subtracting the column mean\n",
        "        X -= col_mean\n",
        "\n",
        "        # perform SVD on the batch data\n",
        "        U, S, Vt = self._svd_fn_full(X)\n",
        "\n",
        "        # store the top n_components components\n",
        "        self.components_ = Vt[:self.n_components]\n",
        "        self.singular_values_ = S[:self.n_components]\n",
        "        self.mean_ = col_mean\n",
        "        self.var_ = col_var\n",
        "        self.n_samples_seen_ = n_total_samples\n",
        "\n",
        "        return self\n",
        "\n",
        "    def transform(self, X: np.ndarray) -> np.ndarray:\n",
        "        X = X - self.mean_\n",
        "        return np.dot(X, self.components_.T)\n",
        "\n",
        "    def fit_transform(self, X: np.ndarray) -> np.ndarray:\n",
        "        return self.fit(X).transform(X)\n"
      ],
      "metadata": {
        "id": "VAAQQGhQltBp"
      },
      "execution_count": 14,
      "outputs": []
    },
    {
      "cell_type": "code",
      "source": [],
      "metadata": {
        "id": "xrEVXfeFrH3T"
      },
      "execution_count": null,
      "outputs": []
    }
  ]
}