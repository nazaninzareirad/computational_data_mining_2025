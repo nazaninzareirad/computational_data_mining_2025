{
  "nbformat": 4,
  "nbformat_minor": 0,
  "metadata": {
    "colab": {
      "provenance": [],
      "authorship_tag": "ABX9TyNeNOkpQ7Xo/vCoAAygWTRn",
      "include_colab_link": true
    },
    "kernelspec": {
      "name": "python3",
      "display_name": "Python 3"
    },
    "language_info": {
      "name": "python"
    }
  },
  "cells": [
    {
      "cell_type": "markdown",
      "metadata": {
        "id": "view-in-github",
        "colab_type": "text"
      },
      "source": [
        "<a href=\"https://colab.research.google.com/github/nazaninzareirad/computational_data_mining_2025/blob/main/Untitled7.ipynb\" target=\"_parent\"><img src=\"https://colab.research.google.com/assets/colab-badge.svg\" alt=\"Open In Colab\"/></a>"
      ]
    },
    {
      "cell_type": "code",
      "execution_count": 4,
      "metadata": {
        "id": "-nWIa6BONatX",
        "colab": {
          "base_uri": "https://localhost:8080/"
        },
        "outputId": "615b92cd-e7b7-4917-8a8e-aecb4bbd3fbd"
      },
      "outputs": [
        {
          "output_type": "stream",
          "name": "stdout",
          "text": [
            "Requirement already satisfied: ucimlrepo in /usr/local/lib/python3.12/dist-packages (0.0.7)\n",
            "Requirement already satisfied: mlxtend in /usr/local/lib/python3.12/dist-packages (0.23.4)\n",
            "Requirement already satisfied: pandas>=1.0.0 in /usr/local/lib/python3.12/dist-packages (from ucimlrepo) (2.2.2)\n",
            "Requirement already satisfied: certifi>=2020.12.5 in /usr/local/lib/python3.12/dist-packages (from ucimlrepo) (2025.10.5)\n",
            "Requirement already satisfied: scipy>=1.2.1 in /usr/local/lib/python3.12/dist-packages (from mlxtend) (1.16.2)\n",
            "Requirement already satisfied: numpy>=1.16.2 in /usr/local/lib/python3.12/dist-packages (from mlxtend) (2.0.2)\n",
            "Requirement already satisfied: scikit-learn>=1.3.1 in /usr/local/lib/python3.12/dist-packages (from mlxtend) (1.6.1)\n",
            "Requirement already satisfied: matplotlib>=3.0.0 in /usr/local/lib/python3.12/dist-packages (from mlxtend) (3.10.0)\n",
            "Requirement already satisfied: joblib>=0.13.2 in /usr/local/lib/python3.12/dist-packages (from mlxtend) (1.5.2)\n",
            "Requirement already satisfied: contourpy>=1.0.1 in /usr/local/lib/python3.12/dist-packages (from matplotlib>=3.0.0->mlxtend) (1.3.3)\n",
            "Requirement already satisfied: cycler>=0.10 in /usr/local/lib/python3.12/dist-packages (from matplotlib>=3.0.0->mlxtend) (0.12.1)\n",
            "Requirement already satisfied: fonttools>=4.22.0 in /usr/local/lib/python3.12/dist-packages (from matplotlib>=3.0.0->mlxtend) (4.60.1)\n",
            "Requirement already satisfied: kiwisolver>=1.3.1 in /usr/local/lib/python3.12/dist-packages (from matplotlib>=3.0.0->mlxtend) (1.4.9)\n",
            "Requirement already satisfied: packaging>=20.0 in /usr/local/lib/python3.12/dist-packages (from matplotlib>=3.0.0->mlxtend) (25.0)\n",
            "Requirement already satisfied: pillow>=8 in /usr/local/lib/python3.12/dist-packages (from matplotlib>=3.0.0->mlxtend) (11.3.0)\n",
            "Requirement already satisfied: pyparsing>=2.3.1 in /usr/local/lib/python3.12/dist-packages (from matplotlib>=3.0.0->mlxtend) (3.2.5)\n",
            "Requirement already satisfied: python-dateutil>=2.7 in /usr/local/lib/python3.12/dist-packages (from matplotlib>=3.0.0->mlxtend) (2.9.0.post0)\n",
            "Requirement already satisfied: pytz>=2020.1 in /usr/local/lib/python3.12/dist-packages (from pandas>=1.0.0->ucimlrepo) (2025.2)\n",
            "Requirement already satisfied: tzdata>=2022.7 in /usr/local/lib/python3.12/dist-packages (from pandas>=1.0.0->ucimlrepo) (2025.2)\n",
            "Requirement already satisfied: threadpoolctl>=3.1.0 in /usr/local/lib/python3.12/dist-packages (from scikit-learn>=1.3.1->mlxtend) (3.6.0)\n",
            "Requirement already satisfied: six>=1.5 in /usr/local/lib/python3.12/dist-packages (from python-dateutil>=2.7->matplotlib>=3.0.0->mlxtend) (1.17.0)\n"
          ]
        }
      ],
      "source": [
        "!pip install ucimlrepo mlxtend"
      ]
    },
    {
      "cell_type": "markdown",
      "source": [
        "1. Loading and preprocessing the dataset"
      ],
      "metadata": {
        "id": "_AjGFA6Weejj"
      }
    },
    {
      "cell_type": "code",
      "source": [
        "from ucimlrepo import fetch_ucirepo\n",
        "import pandas as pd\n",
        "\n",
        "# Lloading the dataset\n",
        "online_retail = fetch_ucirepo(id=352)\n",
        "\n",
        "# converting to dataframes\n",
        "X = online_retail.data.features\n",
        "y = online_retail.data.targets\n",
        "\n",
        "# combine into a single DataFrame\n",
        "df = pd.concat([X, y, online_retail.data.ids], axis=1)\n",
        "\n",
        "# convert 'InvoiceDate' to datetime\n",
        "df['InvoiceDate'] = pd.to_datetime(df['InvoiceDate'])\n",
        "\n",
        "# remove cancelled transactions\n",
        "df = df[~df['InvoiceNo'].str.startswith('C')]\n",
        "\n",
        "# remove rows with missing CustomerID\n",
        "df = df.dropna(subset=['CustomerID'])\n",
        "\n",
        "# remove quantities that are <= 0\n",
        "df = df[df['Quantity'] > 0]\n",
        "\n",
        "# remove rows with missing or zero UnitPrice\n",
        "df = df[df['UnitPrice'] > 0]\n"
      ],
      "metadata": {
        "id": "1DksL2mhN-nr"
      },
      "execution_count": 5,
      "outputs": []
    },
    {
      "cell_type": "code",
      "source": [
        "import pandas as pd\n",
        "\n",
        "# Combine features and targets into a single DataFrame\n",
        "# Include 'InvoiceNo' from online_retail.data.ids\n",
        "df = pd.concat([online_retail.data.features, online_retail.data.targets, online_retail.data.ids], axis=1)\n",
        "\n",
        "# Convert 'InvoiceDate' to datetime\n",
        "df['InvoiceDate'] = pd.to_datetime(df['InvoiceDate'])\n",
        "\n",
        "# Filter out cancelled transactions (InvoiceNo starting with 'C')\n",
        "df = df[~df['InvoiceNo'].str.startswith('C')]\n",
        "\n",
        "# Remove rows with missing CustomerID\n",
        "df = df.dropna(subset=['CustomerID'])\n",
        "\n",
        "# Remove negative or zero quantities\n",
        "df = df[df['Quantity'] > 0]\n",
        "\n",
        "# Remove rows with missing or zero UnitPrice\n",
        "df = df[df['UnitPrice'] > 0]"
      ],
      "metadata": {
        "id": "dsgz-64eijlH"
      },
      "execution_count": null,
      "outputs": []
    },
    {
      "cell_type": "markdown",
      "source": [
        "2. Creating the item-transaction matrix"
      ],
      "metadata": {
        "id": "H-eOuT2juFcY"
      }
    },
    {
      "cell_type": "code",
      "source": [
        "# create the matrix with pivot_table\n",
        "basket = df.pivot_table(index='InvoiceNo', columns='Description', values='Quantity', aggfunc='sum', fill_value=0)\n",
        "\n",
        "# convert the quantities to binary (1 if purchased, 0 otherwise)\n",
        "basket = basket.applymap(lambda x: 1 if x > 0 else 0)\n",
        "\n",
        "print(basket.head())"
      ],
      "metadata": {
        "id": "Qm5-YyU4uwJU",
        "outputId": "cd32304f-f643-4b3d-fa50-eb1b5839badf",
        "colab": {
          "base_uri": "https://localhost:8080/"
        }
      },
      "execution_count": 6,
      "outputs": [
        {
          "output_type": "stream",
          "name": "stderr",
          "text": [
            "/tmp/ipython-input-1671543911.py:5: FutureWarning: DataFrame.applymap has been deprecated. Use DataFrame.map instead.\n",
            "  basket = basket.applymap(lambda x: 1 if x > 0 else 0)\n"
          ]
        },
        {
          "output_type": "stream",
          "name": "stdout",
          "text": [
            "Description   4 PURPLE FLOCK DINNER CANDLES   50'S CHRISTMAS GIFT BAG LARGE  \\\n",
            "InvoiceNo                                                                     \n",
            "536365                                    0                               0   \n",
            "536366                                    0                               0   \n",
            "536367                                    0                               0   \n",
            "536368                                    0                               0   \n",
            "536369                                    0                               0   \n",
            "\n",
            "Description   DOLLY GIRL BEAKER   I LOVE LONDON MINI BACKPACK  \\\n",
            "InvoiceNo                                                       \n",
            "536365                        0                             0   \n",
            "536366                        0                             0   \n",
            "536367                        0                             0   \n",
            "536368                        0                             0   \n",
            "536369                        0                             0   \n",
            "\n",
            "Description   I LOVE LONDON MINI RUCKSACK   NINE DRAWER OFFICE TIDY  \\\n",
            "InvoiceNo                                                             \n",
            "536365                                  0                         0   \n",
            "536366                                  0                         0   \n",
            "536367                                  0                         0   \n",
            "536368                                  0                         0   \n",
            "536369                                  0                         0   \n",
            "\n",
            "Description   OVAL WALL MIRROR DIAMANTE    RED SPOT GIFT BAG LARGE  \\\n",
            "InvoiceNo                                                            \n",
            "536365                                 0                         0   \n",
            "536366                                 0                         0   \n",
            "536367                                 0                         0   \n",
            "536368                                 0                         0   \n",
            "536369                                 0                         0   \n",
            "\n",
            "Description   SET 2 TEA TOWELS I LOVE LONDON    SPACEBOY BABY GIFT SET  ...  \\\n",
            "InvoiceNo                                                               ...   \n",
            "536365                                      0                        0  ...   \n",
            "536366                                      0                        0  ...   \n",
            "536367                                      0                        0  ...   \n",
            "536368                                      0                        0  ...   \n",
            "536369                                      0                        0  ...   \n",
            "\n",
            "Description  ZINC STAR T-LIGHT HOLDER   ZINC SWEETHEART SOAP DISH  \\\n",
            "InvoiceNo                                                           \n",
            "536365                               0                          0   \n",
            "536366                               0                          0   \n",
            "536367                               0                          0   \n",
            "536368                               0                          0   \n",
            "536369                               0                          0   \n",
            "\n",
            "Description  ZINC SWEETHEART WIRE LETTER RACK  ZINC T-LIGHT HOLDER STAR LARGE  \\\n",
            "InvoiceNo                                                                       \n",
            "536365                                      0                               0   \n",
            "536366                                      0                               0   \n",
            "536367                                      0                               0   \n",
            "536368                                      0                               0   \n",
            "536369                                      0                               0   \n",
            "\n",
            "Description  ZINC T-LIGHT HOLDER STARS LARGE  ZINC T-LIGHT HOLDER STARS SMALL  \\\n",
            "InvoiceNo                                                                       \n",
            "536365                                     0                                0   \n",
            "536366                                     0                                0   \n",
            "536367                                     0                                0   \n",
            "536368                                     0                                0   \n",
            "536369                                     0                                0   \n",
            "\n",
            "Description  ZINC TOP  2 DOOR WOODEN SHELF   ZINC WILLIE WINKIE  CANDLE STICK  \\\n",
            "InvoiceNo                                                                       \n",
            "536365                                    0                                 0   \n",
            "536366                                    0                                 0   \n",
            "536367                                    0                                 0   \n",
            "536368                                    0                                 0   \n",
            "536369                                    0                                 0   \n",
            "\n",
            "Description  ZINC WIRE KITCHEN ORGANISER  ZINC WIRE SWEETHEART LETTER TRAY  \n",
            "InvoiceNo                                                                   \n",
            "536365                                 0                                 0  \n",
            "536366                                 0                                 0  \n",
            "536367                                 0                                 0  \n",
            "536368                                 0                                 0  \n",
            "536369                                 0                                 0  \n",
            "\n",
            "[5 rows x 3877 columns]\n"
          ]
        }
      ]
    },
    {
      "cell_type": "markdown",
      "source": [
        "3. Streaming simulation"
      ],
      "metadata": {
        "id": "jU9BZ7ShY6Uw"
      }
    },
    {
      "cell_type": "code",
      "source": [
        "import numpy as np\n",
        "\n",
        "# simulate streaming data by random sampling\n",
        "def stream_data(batch_size=100):\n",
        "    # randomly sample 'batch_size' transactions\n",
        "    indices = np.random.choice(basket.shape[0], batch_size, replace=False)\n",
        "    return basket.iloc[indices]\n",
        "\n",
        "# example of 10 transactions\n",
        "streamed_data = stream_data(10)\n",
        "print(streamed_data.head())\n"
      ],
      "metadata": {
        "id": "faTMaMy4ZKqH",
        "outputId": "304f49aa-9092-408a-d86e-6ddb84f5a1a4",
        "colab": {
          "base_uri": "https://localhost:8080/"
        }
      },
      "execution_count": 7,
      "outputs": [
        {
          "output_type": "stream",
          "name": "stdout",
          "text": [
            "Description   4 PURPLE FLOCK DINNER CANDLES   50'S CHRISTMAS GIFT BAG LARGE  \\\n",
            "InvoiceNo                                                                     \n",
            "570353                                    0                               0   \n",
            "550513                                    0                               0   \n",
            "542743                                    0                               0   \n",
            "553317                                    0                               0   \n",
            "563036                                    0                               0   \n",
            "\n",
            "Description   DOLLY GIRL BEAKER   I LOVE LONDON MINI BACKPACK  \\\n",
            "InvoiceNo                                                       \n",
            "570353                        0                             0   \n",
            "550513                        0                             0   \n",
            "542743                        0                             0   \n",
            "553317                        0                             0   \n",
            "563036                        0                             0   \n",
            "\n",
            "Description   I LOVE LONDON MINI RUCKSACK   NINE DRAWER OFFICE TIDY  \\\n",
            "InvoiceNo                                                             \n",
            "570353                                  0                         0   \n",
            "550513                                  0                         0   \n",
            "542743                                  0                         0   \n",
            "553317                                  0                         0   \n",
            "563036                                  0                         0   \n",
            "\n",
            "Description   OVAL WALL MIRROR DIAMANTE    RED SPOT GIFT BAG LARGE  \\\n",
            "InvoiceNo                                                            \n",
            "570353                                 0                         0   \n",
            "550513                                 0                         0   \n",
            "542743                                 0                         0   \n",
            "553317                                 0                         0   \n",
            "563036                                 0                         0   \n",
            "\n",
            "Description   SET 2 TEA TOWELS I LOVE LONDON    SPACEBOY BABY GIFT SET  ...  \\\n",
            "InvoiceNo                                                               ...   \n",
            "570353                                      0                        0  ...   \n",
            "550513                                      0                        0  ...   \n",
            "542743                                      0                        0  ...   \n",
            "553317                                      0                        0  ...   \n",
            "563036                                      0                        0  ...   \n",
            "\n",
            "Description  ZINC STAR T-LIGHT HOLDER   ZINC SWEETHEART SOAP DISH  \\\n",
            "InvoiceNo                                                           \n",
            "570353                               0                          0   \n",
            "550513                               0                          0   \n",
            "542743                               0                          0   \n",
            "553317                               0                          0   \n",
            "563036                               0                          0   \n",
            "\n",
            "Description  ZINC SWEETHEART WIRE LETTER RACK  ZINC T-LIGHT HOLDER STAR LARGE  \\\n",
            "InvoiceNo                                                                       \n",
            "570353                                      0                               0   \n",
            "550513                                      0                               0   \n",
            "542743                                      0                               0   \n",
            "553317                                      0                               0   \n",
            "563036                                      0                               0   \n",
            "\n",
            "Description  ZINC T-LIGHT HOLDER STARS LARGE  ZINC T-LIGHT HOLDER STARS SMALL  \\\n",
            "InvoiceNo                                                                       \n",
            "570353                                     0                                0   \n",
            "550513                                     0                                0   \n",
            "542743                                     0                                0   \n",
            "553317                                     0                                0   \n",
            "563036                                     0                                0   \n",
            "\n",
            "Description  ZINC TOP  2 DOOR WOODEN SHELF   ZINC WILLIE WINKIE  CANDLE STICK  \\\n",
            "InvoiceNo                                                                       \n",
            "570353                                    0                                 0   \n",
            "550513                                    0                                 0   \n",
            "542743                                    0                                 0   \n",
            "553317                                    0                                 0   \n",
            "563036                                    0                                 0   \n",
            "\n",
            "Description  ZINC WIRE KITCHEN ORGANISER  ZINC WIRE SWEETHEART LETTER TRAY  \n",
            "InvoiceNo                                                                   \n",
            "570353                                 0                                 0  \n",
            "550513                                 0                                 0  \n",
            "542743                                 0                                 0  \n",
            "553317                                 0                                 0  \n",
            "563036                                 0                                 0  \n",
            "\n",
            "[5 rows x 3877 columns]\n"
          ]
        }
      ]
    }
  ]
}